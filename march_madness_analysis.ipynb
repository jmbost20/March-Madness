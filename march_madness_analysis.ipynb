{
 "cells": [
  {
   "cell_type": "markdown",
   "id": "adac5e2e",
   "metadata": {},
   "source": [
    "## Table of Contents\n",
    "\n",
    "1. ) [Introduction](#Overview)\n",
    "    * [Problem Statement](#Problem-Statement)\n",
    "    * [Data Background](#Data-Background)\n",
    "    * [Data Cleaning](#Data-Cleaning)\n",
    "2. ) [Analysis](#Analysis)\n",
    "    * [Data Exploration](#Data-Exploration)\n",
    "    * [Industry Methods](#Industry)\n",
    "        * [Five Thirty Eight ELO](#Five-Thirty-Eight-ELO)    \n",
    "    * [Colloqiual](#Colloquial)\n",
    "        * [Seed Selection](#Seed-Selection)\n",
    "4. ) [Results](#Results)\n",
    "5. ) [Conclusions](#Conclusions)\n",
    "    * [Next Steps](#Next-Steps)"
   ]
  },
  {
   "cell_type": "markdown",
   "id": "e35fb40f",
   "metadata": {},
   "source": [
    "# Introduction"
   ]
  },
  {
   "cell_type": "markdown",
   "id": "520e8f3a",
   "metadata": {},
   "source": [
    "## Problem Statement"
   ]
  },
  {
   "cell_type": "markdown",
   "id": "dedc0209",
   "metadata": {},
   "source": [
    "March Madness is one of the most popular offseasons in college sports. Many people heavily rely upon seed to select their winners in March Madness. In this notebook, the dataset will be explored for interesting historical revelations."
   ]
  },
  {
   "cell_type": "markdown",
   "id": "ec5a9b3a",
   "metadata": {},
   "source": [
    "## Data Background"
   ]
  },
  {
   "cell_type": "markdown",
   "id": "55d79583",
   "metadata": {},
   "source": [
    "We are just focusing on comparing teams and assigning status as underdog based on seed. This is to cover the potential error that might arise from trying to assign every team a ranking discrete overall ranking.\n",
    "Thus when same seed teams play we discard this as of interest for the analysis"
   ]
  },
  {
   "cell_type": "markdown",
   "id": "931bb579",
   "metadata": {},
   "source": [
    "Data was obtained from ... Data Set"
   ]
  },
  {
   "cell_type": "markdown",
   "id": "ba82dbd8",
   "metadata": {},
   "source": [
    "This data only spans 1985, the beginning of current era March Madness, to 2016. \n",
    "In future revisions this data will be manually scraped to stay up to date"
   ]
  },
  {
   "cell_type": "markdown",
   "id": "7b213c04",
   "metadata": {},
   "source": [
    "**Notes**: \n",
    "* Seed is inversely related to good teams \n",
    "    * higher seed is lower ranking\n",
    "    * 1 seed is the best seed"
   ]
  },
  {
   "cell_type": "markdown",
   "id": "dd810f1f",
   "metadata": {},
   "source": [
    "### Importing "
   ]
  },
  {
   "cell_type": "code",
   "execution_count": 1,
   "id": "808b0a97",
   "metadata": {},
   "outputs": [],
   "source": [
    "### Basic Python\n",
    "import pandas as pd\n",
    "import numpy as np\n",
    "import matplotlib.pyplot as plt\n",
    "from matplotlib.patches import ConnectionPatch\n",
    "\n",
    "### ignore warnings\n",
    "import warnings \n",
    "warnings.filterwarnings(\"ignore\")"
   ]
  },
  {
   "cell_type": "code",
   "execution_count": 2,
   "id": "e8d089be",
   "metadata": {},
   "outputs": [
    {
     "name": "stdout",
     "output_type": "stream",
     "text": [
      "<class 'pandas.core.frame.DataFrame'>\n",
      "RangeIndex: 2050 entries, 0 to 2049\n",
      "Data columns (total 10 columns):\n",
      " #   Column         Non-Null Count  Dtype \n",
      "---  ------         --------------  ----- \n",
      " 0   Date           2050 non-null   object\n",
      " 1   Round          2050 non-null   object\n",
      " 2   Region         2038 non-null   object\n",
      " 3   Winning Seed   2050 non-null   int64 \n",
      " 4   Winner         2050 non-null   object\n",
      " 5   Winning Score  2050 non-null   int64 \n",
      " 6   Losing Seed    2050 non-null   int64 \n",
      " 7   Loser          2050 non-null   object\n",
      " 8   Losing Score   2050 non-null   int64 \n",
      " 9   Overtime       130 non-null    object\n",
      "dtypes: int64(4), object(6)\n",
      "memory usage: 160.3+ KB\n"
     ]
    }
   ],
   "source": [
    "### renamed CSV from \"NCAA Mens March Madness Historical Results.csv\" to \"March_Madness_Games.csv\"\n",
    "mm_df= pd.read_csv(\"March_Madness_Games.csv\")\n",
    "mm_df.info()"
   ]
  },
  {
   "cell_type": "code",
   "execution_count": 3,
   "id": "e9f10ca3",
   "metadata": {},
   "outputs": [
    {
     "data": {
      "text/html": [
       "<div>\n",
       "<style scoped>\n",
       "    .dataframe tbody tr th:only-of-type {\n",
       "        vertical-align: middle;\n",
       "    }\n",
       "\n",
       "    .dataframe tbody tr th {\n",
       "        vertical-align: top;\n",
       "    }\n",
       "\n",
       "    .dataframe thead th {\n",
       "        text-align: right;\n",
       "    }\n",
       "</style>\n",
       "<table border=\"1\" class=\"dataframe\">\n",
       "  <thead>\n",
       "    <tr style=\"text-align: right;\">\n",
       "      <th></th>\n",
       "      <th>Date</th>\n",
       "      <th>Round</th>\n",
       "      <th>Region</th>\n",
       "      <th>Winning Seed</th>\n",
       "      <th>Winner</th>\n",
       "      <th>Winning Score</th>\n",
       "      <th>Losing Seed</th>\n",
       "      <th>Loser</th>\n",
       "      <th>Losing Score</th>\n",
       "      <th>Overtime</th>\n",
       "    </tr>\n",
       "  </thead>\n",
       "  <tbody>\n",
       "    <tr>\n",
       "      <th>0</th>\n",
       "      <td>3/14/85</td>\n",
       "      <td>Round of 64</td>\n",
       "      <td>East</td>\n",
       "      <td>1</td>\n",
       "      <td>Georgetown</td>\n",
       "      <td>68</td>\n",
       "      <td>16</td>\n",
       "      <td>Lehigh</td>\n",
       "      <td>43</td>\n",
       "      <td>NaN</td>\n",
       "    </tr>\n",
       "    <tr>\n",
       "      <th>1</th>\n",
       "      <td>3/14/85</td>\n",
       "      <td>Round of 64</td>\n",
       "      <td>East</td>\n",
       "      <td>4</td>\n",
       "      <td>Loyola, Illinois</td>\n",
       "      <td>59</td>\n",
       "      <td>13</td>\n",
       "      <td>Iona</td>\n",
       "      <td>58</td>\n",
       "      <td>NaN</td>\n",
       "    </tr>\n",
       "    <tr>\n",
       "      <th>2</th>\n",
       "      <td>3/14/85</td>\n",
       "      <td>Round of 64</td>\n",
       "      <td>East</td>\n",
       "      <td>5</td>\n",
       "      <td>Southern Methodist</td>\n",
       "      <td>85</td>\n",
       "      <td>12</td>\n",
       "      <td>Old Dominion</td>\n",
       "      <td>68</td>\n",
       "      <td>NaN</td>\n",
       "    </tr>\n",
       "    <tr>\n",
       "      <th>3</th>\n",
       "      <td>3/14/85</td>\n",
       "      <td>Round of 64</td>\n",
       "      <td>East</td>\n",
       "      <td>8</td>\n",
       "      <td>Temple</td>\n",
       "      <td>60</td>\n",
       "      <td>9</td>\n",
       "      <td>Virginia Tech</td>\n",
       "      <td>57</td>\n",
       "      <td>NaN</td>\n",
       "    </tr>\n",
       "    <tr>\n",
       "      <th>4</th>\n",
       "      <td>3/14/85</td>\n",
       "      <td>Round of 64</td>\n",
       "      <td>Midwest</td>\n",
       "      <td>1</td>\n",
       "      <td>Oklahoma</td>\n",
       "      <td>96</td>\n",
       "      <td>16</td>\n",
       "      <td>North Carolina A&amp;T</td>\n",
       "      <td>83</td>\n",
       "      <td>NaN</td>\n",
       "    </tr>\n",
       "  </tbody>\n",
       "</table>\n",
       "</div>"
      ],
      "text/plain": [
       "      Date        Round   Region  Winning Seed              Winner  \\\n",
       "0  3/14/85  Round of 64     East             1          Georgetown   \n",
       "1  3/14/85  Round of 64     East             4    Loyola, Illinois   \n",
       "2  3/14/85  Round of 64     East             5  Southern Methodist   \n",
       "3  3/14/85  Round of 64     East             8              Temple   \n",
       "4  3/14/85  Round of 64  Midwest             1            Oklahoma   \n",
       "\n",
       "   Winning Score  Losing Seed               Loser  Losing Score Overtime  \n",
       "0             68           16              Lehigh            43      NaN  \n",
       "1             59           13                Iona            58      NaN  \n",
       "2             85           12        Old Dominion            68      NaN  \n",
       "3             60            9       Virginia Tech            57      NaN  \n",
       "4             96           16  North Carolina A&T            83      NaN  "
      ]
     },
     "execution_count": 3,
     "metadata": {},
     "output_type": "execute_result"
    }
   ],
   "source": [
    "mm_df.head() #print first 5 lines"
   ]
  },
  {
   "cell_type": "markdown",
   "id": "7e8dad57",
   "metadata": {},
   "source": [
    "## Data Cleaning"
   ]
  },
  {
   "cell_type": "code",
   "execution_count": 4,
   "id": "bc38784d",
   "metadata": {},
   "outputs": [],
   "source": [
    "#Testing (save for .py version)\n",
    "# date_time_str= (mm_df[\"Date\"][0])\n",
    "# date_time_obj = datetime.strptime(date_time_str, '%m/%d/%y')\n",
    "# date_time_str\n",
    "\n",
    "#Convert String to DateTime Object\n",
    "mm_df[\"Date\"]= pd.to_datetime(mm_df['Date'], format='%m/%d/%y').dt.date"
   ]
  },
  {
   "cell_type": "code",
   "execution_count": 5,
   "id": "f7039133",
   "metadata": {},
   "outputs": [],
   "source": [
    "#Create Year Variable\n",
    "mm_df['Year'] = pd.DatetimeIndex(mm_df['Date']).year \n",
    "\n",
    "#Create Total Points per game (not including OT) Variable\n",
    "mm_df[\"Total Score\"]= mm_df[\"Winning Score\"]+ mm_df[\"Losing Score\"]\n",
    "\n",
    "###Detect Cases where underdog wins (Save for .py version)\n",
    "# mm_df[\"Underdog Wins\"]= mm_df[\"Winning Seed\"] < \n",
    "\n",
    "###Exclude all play in games (11, 12, 16, in Opening Round)\n",
    "###PLAY IN GAMES ONLY STARTED IN 2001\n",
    "not_playin_game= mm_df[\"Round\"] != \"Opening Round\"\n",
    "\n",
    "#Create Variable Underdog\n",
    "# detect when lower seed wins; when same seed ignore (or later could look up ranking of that year and pick based on higher team ranked)\n",
    "total_games= len(mm_df)\n",
    "# mm_df[mm_df[\"Winning Seed\"] > mm_df[\"Losing Seed\"]]\n",
    "mm_df[\"Underdog\"]= mm_df[\"Winning Seed\"] > mm_df[\"Losing Seed\"]\n"
   ]
  },
  {
   "cell_type": "code",
   "execution_count": 6,
   "id": "72c17234",
   "metadata": {},
   "outputs": [],
   "source": [
    "#Create Seed Differential Variable to express the number of seeds between losing and winning teams. A negative represents a lower seeded team\n",
    "#total difference in seeds between teams\n",
    "mm_df[\"Seed Differential\"]= mm_df[\"Winning Seed\"]- mm_df[\"Losing Seed\"]\n",
    "# mm_df[mm_df[\"Seed Differential\"]==]\n",
    "#mm_df.loc[(mm_df['Winning Seed'] == 1) & (mm_df['Losing Seed'] == 1)]\n"
   ]
  },
  {
   "cell_type": "code",
   "execution_count": 7,
   "id": "08fc0787",
   "metadata": {},
   "outputs": [],
   "source": [
    "#remove same seed games (number of same seed games)\n",
    "mm_df[mm_df[\"Winning Seed\"]== mm_df[\"Losing Seed\"]]\n",
    "#temporarily remove same Seed games\n",
    "diff_seed= mm_df[\"Winning Seed\"]!= mm_df[\"Losing Seed\"]\n",
    "mm_df= mm_df[diff_seed]\n",
    "\n",
    "\n",
    "#Testing (Save for .py version later)\n",
    "#CHECK LEN IS DIFFERENT\n",
    "# print(len(mm_df[not_playin_game]) != len(mm_df))\n",
    "# mm_df= mm_df[not_playin_game] # len(mm_df)\n",
    "#check that all have been removed\n",
    "# check= mm_df[\"Round\"] == \"Opening Round\"\n",
    "# mm_df[check]"
   ]
  },
  {
   "cell_type": "markdown",
   "id": "ecf6a486",
   "metadata": {},
   "source": [
    "## Data Exploration"
   ]
  },
  {
   "cell_type": "markdown",
   "id": "3095a433",
   "metadata": {},
   "source": [
    "### Completed Dataset"
   ]
  },
  {
   "cell_type": "markdown",
   "id": "5b477ba9",
   "metadata": {},
   "source": [
    "## Variable Examination"
   ]
  },
  {
   "cell_type": "code",
   "execution_count": 8,
   "id": "b641fb77",
   "metadata": {},
   "outputs": [
    {
     "data": {
      "text/plain": [
       "['Date',\n",
       " 'Round',\n",
       " 'Region',\n",
       " 'Winning Seed',\n",
       " 'Winner',\n",
       " 'Winning Score',\n",
       " 'Losing Seed',\n",
       " 'Loser',\n",
       " 'Losing Score',\n",
       " 'Overtime',\n",
       " 'Year',\n",
       " 'Total Score',\n",
       " 'Underdog',\n",
       " 'Seed Differential']"
      ]
     },
     "execution_count": 8,
     "metadata": {},
     "output_type": "execute_result"
    }
   ],
   "source": [
    "#Listing Final Variables\n",
    "col_name = mm_df.columns.values.tolist()\n",
    "col_name"
   ]
  },
  {
   "cell_type": "markdown",
   "id": "1326c233",
   "metadata": {},
   "source": [
    "*** Underdog is the most important variable we have to focus on. This is true when the lower seed team has won and false when not. We have already removed all same seed games from out dataset"
   ]
  },
  {
   "cell_type": "markdown",
   "id": "e565c6ea",
   "metadata": {},
   "source": [
    "# Analysis"
   ]
  },
  {
   "cell_type": "code",
   "execution_count": 9,
   "id": "347ada57",
   "metadata": {},
   "outputs": [
    {
     "data": {
      "text/plain": [
       "0.7464859437751004"
      ]
     },
     "execution_count": 9,
     "metadata": {},
     "output_type": "execute_result"
    }
   ],
   "source": [
    "#Percentage of lower seed/ underdog winning\n",
    "underdog_wins= len(mm_df[mm_df[\"Winning Seed\"] > mm_df[\"Losing Seed\"]])\n",
    "underdog_pct= underdog_wins/ total_games\n",
    "favorited_wins= total_games- underdog_wins\n",
    "favorited_wins/len(mm_df)"
   ]
  },
  {
   "cell_type": "markdown",
   "id": "38037f64",
   "metadata": {},
   "source": [
    "Among games involving different seeded teams, the higher seed team has won 74% of the time"
   ]
  },
  {
   "cell_type": "code",
   "execution_count": null,
   "id": "85128714",
   "metadata": {},
   "outputs": [],
   "source": []
  },
  {
   "cell_type": "markdown",
   "id": "f8bda4f3",
   "metadata": {},
   "source": [
    "## Data Exploration"
   ]
  },
  {
   "cell_type": "code",
   "execution_count": 10,
   "id": "28ec2cca",
   "metadata": {},
   "outputs": [
    {
     "data": {
      "text/plain": [
       "{'1-3 Seed Difference': 0.4920071047957371,\n",
       " '4-6 Seed Difference': 0.19005328596802842,\n",
       " '7-9 Seed Difference': 0.261101243339254,\n",
       " '10-13 Seed Difference': 0.056838365896980464}"
      ]
     },
     "execution_count": 10,
     "metadata": {},
     "output_type": "execute_result"
    }
   ],
   "source": [
    "underdog_df= mm_df[mm_df[\"Underdog\"]== True]\n",
    "underdog_df\n",
    "\n",
    "# underdog_df[underdog_df[\"Seed Differential\"]]\n",
    "underdog_df[\"Seed Differential\"].value_counts()\n",
    "underdog_df[\"Seed Differential\"].describe()\n",
    "pre_list= list(underdog_df[\"Seed Differential\"])\n",
    "\n",
    "category_dict= {}\n",
    "\n",
    "for diff in pre_list:\n",
    "    cat_val= None\n",
    "    if diff<4:\n",
    "        cat_val= \"1-3 Seed Difference\"\n",
    "    elif diff>3 and diff<7:\n",
    "        cat_val= \"4-6 Seed Difference\"\n",
    "    elif diff>6 and diff<10:\n",
    "        cat_val= \"7-9 Seed Difference\"\n",
    "    elif diff>9:\n",
    "        cat_val= \"10-13 Seed Difference\"\n",
    "\n",
    "    if not cat_val in category_dict:\n",
    "        category_dict[cat_val]= 0\n",
    "    category_dict[cat_val]+= 1\n",
    "    \n",
    "stor_val= sum(category_dict.values())\n",
    "category_dict= {k:v/(stor_val) for (k,v) in category_dict.items()}\n",
    "(category_dict)\n",
    "\n",
    "# category_dict= {}\n",
    "# for val in category_list:\n",
    "    \n",
    "#<1-3; 4-6,7-9; 10-13\n",
    "\n",
    "# underdog_df[\"Seed Differential\"].value_counts()\n",
    "# mm_df[mm_df[\"Seed Differential\"]== 13]"
   ]
  },
  {
   "cell_type": "code",
   "execution_count": 11,
   "id": "32bc3006",
   "metadata": {
    "scrolled": true
   },
   "outputs": [
    {
     "data": {
      "image/png": "[encoded data removed]",
      "text/plain": [
       "<Figure size 648x360 with 2 Axes>"
      ]
     },
     "metadata": {
      "needs_background": "light"
     },
     "output_type": "display_data"
    }
   ],
   "source": [
    "# make figure and assign axis objects\n",
    "fig, (ax1, ax2) = plt.subplots(1, 2, figsize=(9, 5))\n",
    "fig.subplots_adjust(wspace=0)\n",
    "\n",
    "# pie chart parameters\n",
    "\n",
    "overall_ratios = sizes = [favorited_wins, underdog_wins]\n",
    "labels = \"Higher Seed Wins\", \"Lower Seed Wins\"\n",
    "explode = [0.1, 0]\n",
    "# rotate so that first wedge is split by the x-axis\n",
    "angle = -90 * overall_ratios[0]\n",
    "wedges, *_ = ax1.pie(overall_ratios, autopct='%1.1f%%', startangle=angle,\n",
    "                     labels=labels, explode=explode)\n",
    "\n",
    "# bar chart parameters\n",
    "### Seed of the underdog\n",
    "\n",
    "\n",
    "# underdog\n",
    "# divide the seed differential from the total\n",
    "\n",
    "age_ratios = category_dict.values()\n",
    "age_labels =  category_dict.keys()\n",
    "bottom = 1\n",
    "width = .2\n",
    "\n",
    "# Adding from the top matches the legend.\n",
    "for j, (height, label) in enumerate(reversed([*zip(age_ratios, age_labels)])):\n",
    "    bottom -= height\n",
    "    bc = ax2.bar(0, height, width, bottom=bottom, color='C1', label=label,\n",
    "                 alpha=0.1 + 0.25 * j)\n",
    "    ax2.bar_label(bc, labels=[f\"{height:.0%}\"], label_type='center')\n",
    "\n",
    "ax2.set_title('Seed Differential')\n",
    "ax2.legend()\n",
    "ax2.axis('off')\n",
    "ax2.set_xlim(- 5 * width, 2.5 * width)\n",
    "\n",
    "###DRAWING LINES\n",
    "\n",
    "# use ConnectionPatch to draw lines between the two plots\n",
    "theta1, theta2 = wedges[1].theta1, wedges[1].theta2\n",
    "center, r = wedges[1].center, wedges[1].r\n",
    "bar_height = sum(age_ratios)\n",
    "\n",
    "# draw top connecting line\n",
    "x = r * np.cos(np.pi / 180 * theta2) + center[0]\n",
    "y = r * np.sin(np.pi / 180 * theta2) + center[1]\n",
    "con = ConnectionPatch(xyA=(-width / 2, bar_height), coordsA=ax2.transData,\n",
    "                      xyB=(x, y), coordsB=ax1.transData)\n",
    "con.set_color([0, 0, 0])\n",
    "con.set_linewidth(1)\n",
    "ax2.add_artist(con)\n",
    "\n",
    "# draw bottom connecting line\n",
    "x = r * np.cos(np.pi / 180 * theta1) + center[0]\n",
    "y = r * np.sin(np.pi / 180 * theta1) + center[1]\n",
    "con = ConnectionPatch(xyA=(-width / 2, 0), coordsA=ax2.transData,\n",
    "                      xyB=(x, y), coordsB=ax1.transData)\n",
    "con.set_color([0, 0, 0])\n",
    "ax2.add_artist(con)\n",
    "con.set_linewidth(1)\n",
    "\n",
    "plt.show()\n"
   ]
  },
  {
   "cell_type": "markdown",
   "id": "ed107fda",
   "metadata": {},
   "source": [
    "In this plot, the conjoined chart (right) represents the difference among lower seed teams"
   ]
  },
  {
   "cell_type": "markdown",
   "id": "3c897a1f",
   "metadata": {},
   "source": [
    "# Lowest Seed teams to win; (clarify 2022)"
   ]
  },
  {
   "cell_type": "code",
   "execution_count": 12,
   "id": "8655c990",
   "metadata": {},
   "outputs": [
    {
     "data": {
      "text/html": [
       "<div>\n",
       "<style scoped>\n",
       "    .dataframe tbody tr th:only-of-type {\n",
       "        vertical-align: middle;\n",
       "    }\n",
       "\n",
       "    .dataframe tbody tr th {\n",
       "        vertical-align: top;\n",
       "    }\n",
       "\n",
       "    .dataframe thead th {\n",
       "        text-align: right;\n",
       "    }\n",
       "</style>\n",
       "<table border=\"1\" class=\"dataframe\">\n",
       "  <thead>\n",
       "    <tr style=\"text-align: right;\">\n",
       "      <th></th>\n",
       "      <th>Date</th>\n",
       "      <th>Round</th>\n",
       "      <th>Region</th>\n",
       "      <th>Winning Seed</th>\n",
       "      <th>Winner</th>\n",
       "      <th>Winning Score</th>\n",
       "      <th>Losing Seed</th>\n",
       "      <th>Loser</th>\n",
       "      <th>Losing Score</th>\n",
       "      <th>Overtime</th>\n",
       "      <th>Year</th>\n",
       "      <th>Total Score</th>\n",
       "      <th>Underdog</th>\n",
       "      <th>Seed Differential</th>\n",
       "    </tr>\n",
       "  </thead>\n",
       "  <tbody>\n",
       "    <tr>\n",
       "      <th>381</th>\n",
       "      <td>1991-03-14</td>\n",
       "      <td>Round of 64</td>\n",
       "      <td>East</td>\n",
       "      <td>15</td>\n",
       "      <td>Richmond</td>\n",
       "      <td>73</td>\n",
       "      <td>2</td>\n",
       "      <td>Syracuse</td>\n",
       "      <td>69</td>\n",
       "      <td>NaN</td>\n",
       "      <td>1991</td>\n",
       "      <td>142</td>\n",
       "      <td>True</td>\n",
       "      <td>13</td>\n",
       "    </tr>\n",
       "    <tr>\n",
       "      <th>519</th>\n",
       "      <td>1993-03-18</td>\n",
       "      <td>Round of 64</td>\n",
       "      <td>West</td>\n",
       "      <td>15</td>\n",
       "      <td>Santa Clara</td>\n",
       "      <td>64</td>\n",
       "      <td>2</td>\n",
       "      <td>Arizona</td>\n",
       "      <td>61</td>\n",
       "      <td>NaN</td>\n",
       "      <td>1993</td>\n",
       "      <td>125</td>\n",
       "      <td>True</td>\n",
       "      <td>13</td>\n",
       "    </tr>\n",
       "    <tr>\n",
       "      <th>775</th>\n",
       "      <td>1997-03-14</td>\n",
       "      <td>Round of 64</td>\n",
       "      <td>East</td>\n",
       "      <td>15</td>\n",
       "      <td>Coppin State</td>\n",
       "      <td>78</td>\n",
       "      <td>2</td>\n",
       "      <td>South Carolina</td>\n",
       "      <td>65</td>\n",
       "      <td>NaN</td>\n",
       "      <td>1997</td>\n",
       "      <td>143</td>\n",
       "      <td>True</td>\n",
       "      <td>13</td>\n",
       "    </tr>\n",
       "    <tr>\n",
       "      <th>1024</th>\n",
       "      <td>2001-03-15</td>\n",
       "      <td>Round of 64</td>\n",
       "      <td>West</td>\n",
       "      <td>15</td>\n",
       "      <td>Hampton</td>\n",
       "      <td>58</td>\n",
       "      <td>2</td>\n",
       "      <td>Iowa State</td>\n",
       "      <td>57</td>\n",
       "      <td>NaN</td>\n",
       "      <td>2001</td>\n",
       "      <td>115</td>\n",
       "      <td>True</td>\n",
       "      <td>13</td>\n",
       "    </tr>\n",
       "    <tr>\n",
       "      <th>1746</th>\n",
       "      <td>2012-03-16</td>\n",
       "      <td>Round of 64</td>\n",
       "      <td>South</td>\n",
       "      <td>15</td>\n",
       "      <td>Lehigh</td>\n",
       "      <td>75</td>\n",
       "      <td>2</td>\n",
       "      <td>Duke</td>\n",
       "      <td>70</td>\n",
       "      <td>NaN</td>\n",
       "      <td>2012</td>\n",
       "      <td>145</td>\n",
       "      <td>True</td>\n",
       "      <td>13</td>\n",
       "    </tr>\n",
       "    <tr>\n",
       "      <th>1750</th>\n",
       "      <td>2012-03-16</td>\n",
       "      <td>Round of 64</td>\n",
       "      <td>West</td>\n",
       "      <td>15</td>\n",
       "      <td>Norfolk State</td>\n",
       "      <td>86</td>\n",
       "      <td>2</td>\n",
       "      <td>Missouri</td>\n",
       "      <td>84</td>\n",
       "      <td>NaN</td>\n",
       "      <td>2012</td>\n",
       "      <td>170</td>\n",
       "      <td>True</td>\n",
       "      <td>13</td>\n",
       "    </tr>\n",
       "    <tr>\n",
       "      <th>1813</th>\n",
       "      <td>2013-03-22</td>\n",
       "      <td>Round of 64</td>\n",
       "      <td>South</td>\n",
       "      <td>15</td>\n",
       "      <td>Florida Gulf Coast</td>\n",
       "      <td>78</td>\n",
       "      <td>2</td>\n",
       "      <td>Georgetown</td>\n",
       "      <td>68</td>\n",
       "      <td>NaN</td>\n",
       "      <td>2013</td>\n",
       "      <td>146</td>\n",
       "      <td>True</td>\n",
       "      <td>13</td>\n",
       "    </tr>\n",
       "    <tr>\n",
       "      <th>2008</th>\n",
       "      <td>2016-03-18</td>\n",
       "      <td>Round of 64</td>\n",
       "      <td>Midwest</td>\n",
       "      <td>15</td>\n",
       "      <td>Middle Tennessee State</td>\n",
       "      <td>90</td>\n",
       "      <td>2</td>\n",
       "      <td>Michigan State</td>\n",
       "      <td>81</td>\n",
       "      <td>NaN</td>\n",
       "      <td>2016</td>\n",
       "      <td>171</td>\n",
       "      <td>True</td>\n",
       "      <td>13</td>\n",
       "    </tr>\n",
       "  </tbody>\n",
       "</table>\n",
       "</div>"
      ],
      "text/plain": [
       "            Date        Round   Region  Winning Seed                  Winner  \\\n",
       "381   1991-03-14  Round of 64     East            15                Richmond   \n",
       "519   1993-03-18  Round of 64     West            15             Santa Clara   \n",
       "775   1997-03-14  Round of 64     East            15            Coppin State   \n",
       "1024  2001-03-15  Round of 64     West            15                 Hampton   \n",
       "1746  2012-03-16  Round of 64    South            15                  Lehigh   \n",
       "1750  2012-03-16  Round of 64     West            15           Norfolk State   \n",
       "1813  2013-03-22  Round of 64    South            15      Florida Gulf Coast   \n",
       "2008  2016-03-18  Round of 64  Midwest            15  Middle Tennessee State   \n",
       "\n",
       "      Winning Score  Losing Seed           Loser  Losing Score Overtime  Year  \\\n",
       "381              73            2        Syracuse            69      NaN  1991   \n",
       "519              64            2         Arizona            61      NaN  1993   \n",
       "775              78            2  South Carolina            65      NaN  1997   \n",
       "1024             58            2      Iowa State            57      NaN  2001   \n",
       "1746             75            2            Duke            70      NaN  2012   \n",
       "1750             86            2        Missouri            84      NaN  2012   \n",
       "1813             78            2      Georgetown            68      NaN  2013   \n",
       "2008             90            2  Michigan State            81      NaN  2016   \n",
       "\n",
       "      Total Score  Underdog  Seed Differential  \n",
       "381           142      True                 13  \n",
       "519           125      True                 13  \n",
       "775           143      True                 13  \n",
       "1024          115      True                 13  \n",
       "1746          145      True                 13  \n",
       "1750          170      True                 13  \n",
       "1813          146      True                 13  \n",
       "2008          171      True                 13  "
      ]
     },
     "execution_count": 12,
     "metadata": {},
     "output_type": "execute_result"
    }
   ],
   "source": [
    "largest_upset= underdog_df[\"Seed Differential\"].max()\n",
    "underdog_df[mm_df[\"Seed Differential\"]== largest_upset]"
   ]
  },
  {
   "cell_type": "markdown",
   "id": "84e528f2",
   "metadata": {},
   "source": [
    "*As of 2018, there is 1 16-seed team win in March Madness, UMBC."
   ]
  },
  {
   "cell_type": "code",
   "execution_count": 13,
   "id": "ef193ef0",
   "metadata": {
    "scrolled": true
   },
   "outputs": [
    {
     "data": {
      "text/html": [
       "<div>\n",
       "<style scoped>\n",
       "    .dataframe tbody tr th:only-of-type {\n",
       "        vertical-align: middle;\n",
       "    }\n",
       "\n",
       "    .dataframe tbody tr th {\n",
       "        vertical-align: top;\n",
       "    }\n",
       "\n",
       "    .dataframe thead th {\n",
       "        text-align: right;\n",
       "    }\n",
       "</style>\n",
       "<table border=\"1\" class=\"dataframe\">\n",
       "  <thead>\n",
       "    <tr style=\"text-align: right;\">\n",
       "      <th></th>\n",
       "      <th>Underdog</th>\n",
       "    </tr>\n",
       "    <tr>\n",
       "      <th>Winner</th>\n",
       "      <th></th>\n",
       "    </tr>\n",
       "  </thead>\n",
       "  <tbody>\n",
       "    <tr>\n",
       "      <th>Villanova</th>\n",
       "      <td>15</td>\n",
       "    </tr>\n",
       "    <tr>\n",
       "      <th>Michigan State</th>\n",
       "      <td>14</td>\n",
       "    </tr>\n",
       "    <tr>\n",
       "      <th>Syracuse</th>\n",
       "      <td>11</td>\n",
       "    </tr>\n",
       "    <tr>\n",
       "      <th>Butler</th>\n",
       "      <td>10</td>\n",
       "    </tr>\n",
       "    <tr>\n",
       "      <th>Gonzaga</th>\n",
       "      <td>10</td>\n",
       "    </tr>\n",
       "    <tr>\n",
       "      <th>Connecticut</th>\n",
       "      <td>10</td>\n",
       "    </tr>\n",
       "    <tr>\n",
       "      <th>Arizona</th>\n",
       "      <td>10</td>\n",
       "    </tr>\n",
       "    <tr>\n",
       "      <th>Temple</th>\n",
       "      <td>10</td>\n",
       "    </tr>\n",
       "    <tr>\n",
       "      <th>Xavier, Ohio</th>\n",
       "      <td>9</td>\n",
       "    </tr>\n",
       "    <tr>\n",
       "      <th>Kansas</th>\n",
       "      <td>9</td>\n",
       "    </tr>\n",
       "  </tbody>\n",
       "</table>\n",
       "</div>"
      ],
      "text/plain": [
       "                Underdog\n",
       "Winner                  \n",
       "Villanova             15\n",
       "Michigan State        14\n",
       "Syracuse              11\n",
       "Butler                10\n",
       "Gonzaga               10\n",
       "Connecticut           10\n",
       "Arizona               10\n",
       "Temple                10\n",
       "Xavier, Ohio           9\n",
       "Kansas                 9"
      ]
     },
     "execution_count": 13,
     "metadata": {},
     "output_type": "execute_result"
    }
   ],
   "source": [
    "#Plotting\n",
    "# total underdog win ratio per season\n",
    "# total underdog per round\n",
    "# among the top 4 seeds which is most likely to lose?\n",
    "\n",
    "\n",
    "\n",
    "# ratio of their appearances\n",
    "underdog_frame= mm_df[[\"Winner\", \"Underdog\"]].groupby(\"Winner\").sum().sort_values([\"Underdog\"], ascending= False).head(10)\n",
    "\n",
    "test= underdog_frame[\"Underdog\"]\n",
    "input_val= dict(test)\n",
    "\n",
    "underdog_frame\n"
   ]
  },
  {
   "cell_type": "markdown",
   "id": "abf4be47",
   "metadata": {},
   "source": [
    "# Teams with the Most Underdog Wins"
   ]
  },
  {
   "cell_type": "code",
   "execution_count": 25,
   "id": "00b34e69",
   "metadata": {},
   "outputs": [
    {
     "data": {
      "image/png": "[encoded data removed]",
      "text/plain": [
       "<Figure size 432x288 with 1 Axes>"
      ]
     },
     "metadata": {
      "needs_background": "light"
     },
     "output_type": "display_data"
    }
   ],
   "source": [
    "# Bar chart and then show years too\n",
    "# Show the seeds they've won as underdogs\n",
    "\n",
    "fig, ax = plt.subplots()\n",
    "\n",
    "teams = input_val.keys()\n",
    "counts = input_val.values()\n",
    "bar_colors = ['tab:orange', 'tab:red', \"tab:purple\", 'tab:blue']\n",
    "\n",
    "ax.bar(teams, counts,  color=bar_colors)\n",
    "\n",
    "ax.set_ylabel('Underdog Wins')\n",
    "ax.set_title('Top 10 Teams with the Most Underdog Wins')\n",
    "ax.tick_params(axis='x', rotation=50)\n",
    "\n",
    "# ax.legend(title='Fruit color')\n",
    "\n",
    "plt.show()\n"
   ]
  },
  {
   "cell_type": "code",
   "execution_count": 15,
   "id": "34bccbf2",
   "metadata": {},
   "outputs": [
    {
     "data": {
      "image/png": "[encoded data removed]",
      "text/plain": [
       "<Figure size 432x288 with 1 Axes>"
      ]
     },
     "metadata": {
      "needs_background": "light"
     },
     "output_type": "display_data"
    }
   ],
   "source": [
    "import matplotlib.pyplot as plt\n",
    "import numpy as np\n",
    "\n",
    "np.random.seed(19680801)\n",
    "\n",
    "\n",
    "def gradient_image(ax, extent, direction=0.3, cmap_range=(0, 1), **kwargs):\n",
    "    \"\"\"\n",
    "    Draw a gradient image based on a colormap.\n",
    "\n",
    "    Parameters\n",
    "    ----------\n",
    "    ax : Axes\n",
    "        The axes to draw on.\n",
    "    extent\n",
    "        The extent of the image as (xmin, xmax, ymin, ymax).\n",
    "        By default, this is in Axes coordinates but may be\n",
    "        changed using the *transform* keyword argument.\n",
    "    direction : float\n",
    "        The direction of the gradient. This is a number in\n",
    "        range 0 (=vertical) to 1 (=horizontal).\n",
    "    cmap_range : float, float\n",
    "        The fraction (cmin, cmax) of the colormap that should be\n",
    "        used for the gradient, where the complete colormap is (0, 1).\n",
    "    **kwargs\n",
    "        Other parameters are passed on to `.Axes.imshow()`.\n",
    "        In particular useful is *cmap*.\n",
    "    \"\"\"\n",
    "    phi = direction * np.pi / 2\n",
    "    v = np.array([np.cos(phi), np.sin(phi)])\n",
    "    X = np.array([[v @ [1, 0], v @ [1, 1]],\n",
    "                  [v @ [0, 0], v @ [0, 1]]])\n",
    "    a, b = cmap_range\n",
    "    X = a + (b - a) / X.max() * X\n",
    "    im = ax.imshow(X, extent=extent, interpolation='bicubic',\n",
    "                   vmin=0, vmax=1, **kwargs)\n",
    "    return im\n",
    "\n",
    "\n",
    "def gradient_bar(ax, x, y, width=0.5, bottom=0):\n",
    "    for left, top in zip(x, y):\n",
    "        right = left + width\n",
    "        gradient_image(ax, extent=(left, right, bottom, top),\n",
    "                       cmap=plt.cm.Blues_r, cmap_range=(0, 0.8))\n",
    "\n",
    "\n",
    "xmin, xmax = xlim = 0, 10\n",
    "ymin, ymax = ylim = 0, 1\n",
    "\n",
    "fig, ax = plt.subplots()\n",
    "ax.set(xlim=xlim, ylim=ylim, autoscale_on=False)\n",
    "\n",
    "# background image\n",
    "gradient_image(ax, direction=1, extent=(0, 1, 0, 1), transform=ax.transAxes,\n",
    "               cmap=plt.cm.RdYlGn, cmap_range=(0.2, 0.8), alpha=0.5)\n",
    "\n",
    "N = 10\n",
    "x = np.arange(N) + 0.1\n",
    "y = np.random.rand(N)\n",
    "gradient_bar(ax, x, y, width=0.7)\n",
    "ax.set_aspect('auto')\n",
    "plt.show()"
   ]
  },
  {
   "cell_type": "markdown",
   "id": "a02f6014",
   "metadata": {},
   "source": [
    "# Dates"
   ]
  },
  {
   "cell_type": "code",
   "execution_count": 16,
   "id": "ee415301",
   "metadata": {},
   "outputs": [
    {
     "data": {
      "text/plain": [
       "0       1985-03-14\n",
       "1       1985-03-14\n",
       "2       1985-03-14\n",
       "3       1985-03-14\n",
       "4       1985-03-14\n",
       "           ...    \n",
       "2044    2016-03-26\n",
       "2045    2016-03-27\n",
       "2046    2016-03-27\n",
       "2047    2016-04-02\n",
       "2049    2016-04-04\n",
       "Name: Date, Length: 1992, dtype: object"
      ]
     },
     "execution_count": 16,
     "metadata": {},
     "output_type": "execute_result"
    }
   ],
   "source": [
    "# mm_df[mm_df[\"Winning Seed\"]== 16]\n",
    "mm_df[\"Date\"]"
   ]
  },
  {
   "cell_type": "markdown",
   "id": "ba1571aa",
   "metadata": {},
   "source": [
    "## then Gather data on the team (timeline"
   ]
  },
  {
   "cell_type": "code",
   "execution_count": 17,
   "id": "24b8b1dc",
   "metadata": {},
   "outputs": [
    {
     "data": {
      "text/html": [
       "<div>\n",
       "<style scoped>\n",
       "    .dataframe tbody tr th:only-of-type {\n",
       "        vertical-align: middle;\n",
       "    }\n",
       "\n",
       "    .dataframe tbody tr th {\n",
       "        vertical-align: top;\n",
       "    }\n",
       "\n",
       "    .dataframe thead th {\n",
       "        text-align: right;\n",
       "    }\n",
       "</style>\n",
       "<table border=\"1\" class=\"dataframe\">\n",
       "  <thead>\n",
       "    <tr style=\"text-align: right;\">\n",
       "      <th></th>\n",
       "      <th>Underdog</th>\n",
       "    </tr>\n",
       "    <tr>\n",
       "      <th>Winner</th>\n",
       "      <th></th>\n",
       "    </tr>\n",
       "  </thead>\n",
       "  <tbody>\n",
       "    <tr>\n",
       "      <th>Villanova</th>\n",
       "      <td>15</td>\n",
       "    </tr>\n",
       "    <tr>\n",
       "      <th>Michigan State</th>\n",
       "      <td>14</td>\n",
       "    </tr>\n",
       "    <tr>\n",
       "      <th>Syracuse</th>\n",
       "      <td>11</td>\n",
       "    </tr>\n",
       "    <tr>\n",
       "      <th>Butler</th>\n",
       "      <td>10</td>\n",
       "    </tr>\n",
       "    <tr>\n",
       "      <th>Gonzaga</th>\n",
       "      <td>10</td>\n",
       "    </tr>\n",
       "    <tr>\n",
       "      <th>Connecticut</th>\n",
       "      <td>10</td>\n",
       "    </tr>\n",
       "    <tr>\n",
       "      <th>Arizona</th>\n",
       "      <td>10</td>\n",
       "    </tr>\n",
       "    <tr>\n",
       "      <th>Temple</th>\n",
       "      <td>10</td>\n",
       "    </tr>\n",
       "    <tr>\n",
       "      <th>Xavier, Ohio</th>\n",
       "      <td>9</td>\n",
       "    </tr>\n",
       "    <tr>\n",
       "      <th>Kansas</th>\n",
       "      <td>9</td>\n",
       "    </tr>\n",
       "  </tbody>\n",
       "</table>\n",
       "</div>"
      ],
      "text/plain": [
       "                Underdog\n",
       "Winner                  \n",
       "Villanova             15\n",
       "Michigan State        14\n",
       "Syracuse              11\n",
       "Butler                10\n",
       "Gonzaga               10\n",
       "Connecticut           10\n",
       "Arizona               10\n",
       "Temple                10\n",
       "Xavier, Ohio           9\n",
       "Kansas                 9"
      ]
     },
     "execution_count": 17,
     "metadata": {},
     "output_type": "execute_result"
    }
   ],
   "source": [
    "year_frame= mm_df[[\"Date\", \"Region\", \"Underdog\"]] #farthest underdogs per year\n",
    "\n",
    "underdog_frame= mm_df[[\"Winner\", \"Underdog\"]].groupby(\"Winner\").sum().sort_values([\"Underdog\"], ascending= False).head(10)\n",
    "underdog_frame"
   ]
  },
  {
   "cell_type": "markdown",
   "id": "d4c6cc7e",
   "metadata": {},
   "source": [
    "# Most Successful Underdogs"
   ]
  },
  {
   "cell_type": "code",
   "execution_count": 18,
   "id": "c8938ee9",
   "metadata": {},
   "outputs": [
    {
     "data": {
      "text/html": [
       "<div>\n",
       "<style scoped>\n",
       "    .dataframe tbody tr th:only-of-type {\n",
       "        vertical-align: middle;\n",
       "    }\n",
       "\n",
       "    .dataframe tbody tr th {\n",
       "        vertical-align: top;\n",
       "    }\n",
       "\n",
       "    .dataframe thead th {\n",
       "        text-align: right;\n",
       "    }\n",
       "</style>\n",
       "<table border=\"1\" class=\"dataframe\">\n",
       "  <thead>\n",
       "    <tr style=\"text-align: right;\">\n",
       "      <th></th>\n",
       "      <th>Date</th>\n",
       "      <th>Round</th>\n",
       "      <th>Region</th>\n",
       "      <th>Winning Seed</th>\n",
       "      <th>Winner</th>\n",
       "      <th>Winning Score</th>\n",
       "      <th>Losing Seed</th>\n",
       "      <th>Loser</th>\n",
       "      <th>Losing Score</th>\n",
       "      <th>Overtime</th>\n",
       "      <th>Year</th>\n",
       "      <th>Total Score</th>\n",
       "      <th>Underdog</th>\n",
       "      <th>Seed Differential</th>\n",
       "    </tr>\n",
       "  </thead>\n",
       "  <tbody>\n",
       "    <tr>\n",
       "      <th>62</th>\n",
       "      <td>1985-04-01</td>\n",
       "      <td>National Championship</td>\n",
       "      <td>National Championship</td>\n",
       "      <td>8</td>\n",
       "      <td>Villanova</td>\n",
       "      <td>66</td>\n",
       "      <td>1</td>\n",
       "      <td>Georgetown</td>\n",
       "      <td>64</td>\n",
       "      <td>NaN</td>\n",
       "      <td>1985</td>\n",
       "      <td>130</td>\n",
       "      <td>True</td>\n",
       "      <td>7</td>\n",
       "    </tr>\n",
       "    <tr>\n",
       "      <th>251</th>\n",
       "      <td>1988-04-04</td>\n",
       "      <td>National Championship</td>\n",
       "      <td>National Championship</td>\n",
       "      <td>6</td>\n",
       "      <td>Kansas</td>\n",
       "      <td>83</td>\n",
       "      <td>1</td>\n",
       "      <td>Oklahoma</td>\n",
       "      <td>79</td>\n",
       "      <td>NaN</td>\n",
       "      <td>1988</td>\n",
       "      <td>162</td>\n",
       "      <td>True</td>\n",
       "      <td>5</td>\n",
       "    </tr>\n",
       "    <tr>\n",
       "      <th>818</th>\n",
       "      <td>1997-03-31</td>\n",
       "      <td>National Championship</td>\n",
       "      <td>National Championship</td>\n",
       "      <td>4</td>\n",
       "      <td>Arizona</td>\n",
       "      <td>84</td>\n",
       "      <td>1</td>\n",
       "      <td>Kentucky</td>\n",
       "      <td>79</td>\n",
       "      <td>1 OT</td>\n",
       "      <td>1997</td>\n",
       "      <td>163</td>\n",
       "      <td>True</td>\n",
       "      <td>3</td>\n",
       "    </tr>\n",
       "    <tr>\n",
       "      <th>1199</th>\n",
       "      <td>2003-04-07</td>\n",
       "      <td>National Championship</td>\n",
       "      <td>National Championship</td>\n",
       "      <td>3</td>\n",
       "      <td>Syracuse</td>\n",
       "      <td>81</td>\n",
       "      <td>2</td>\n",
       "      <td>Kansas</td>\n",
       "      <td>78</td>\n",
       "      <td>NaN</td>\n",
       "      <td>2003</td>\n",
       "      <td>159</td>\n",
       "      <td>True</td>\n",
       "      <td>1</td>\n",
       "    </tr>\n",
       "    <tr>\n",
       "      <th>1391</th>\n",
       "      <td>2006-04-03</td>\n",
       "      <td>National Championship</td>\n",
       "      <td>National Championship</td>\n",
       "      <td>3</td>\n",
       "      <td>Florida</td>\n",
       "      <td>73</td>\n",
       "      <td>2</td>\n",
       "      <td>UCLA</td>\n",
       "      <td>57</td>\n",
       "      <td>NaN</td>\n",
       "      <td>2006</td>\n",
       "      <td>130</td>\n",
       "      <td>True</td>\n",
       "      <td>1</td>\n",
       "    </tr>\n",
       "    <tr>\n",
       "      <th>125</th>\n",
       "      <td>1986-03-31</td>\n",
       "      <td>National Championship</td>\n",
       "      <td>National Championship</td>\n",
       "      <td>2</td>\n",
       "      <td>Louisville</td>\n",
       "      <td>72</td>\n",
       "      <td>1</td>\n",
       "      <td>Duke</td>\n",
       "      <td>69</td>\n",
       "      <td>NaN</td>\n",
       "      <td>1986</td>\n",
       "      <td>141</td>\n",
       "      <td>True</td>\n",
       "      <td>1</td>\n",
       "    </tr>\n",
       "    <tr>\n",
       "      <th>2049</th>\n",
       "      <td>2016-04-04</td>\n",
       "      <td>National Championship</td>\n",
       "      <td>NaN</td>\n",
       "      <td>2</td>\n",
       "      <td>Villanova</td>\n",
       "      <td>77</td>\n",
       "      <td>1</td>\n",
       "      <td>North Carolina</td>\n",
       "      <td>74</td>\n",
       "      <td>NaN</td>\n",
       "      <td>2016</td>\n",
       "      <td>151</td>\n",
       "      <td>True</td>\n",
       "      <td>1</td>\n",
       "    </tr>\n",
       "  </tbody>\n",
       "</table>\n",
       "</div>"
      ],
      "text/plain": [
       "            Date                  Round                 Region  Winning Seed  \\\n",
       "62    1985-04-01  National Championship  National Championship             8   \n",
       "251   1988-04-04  National Championship  National Championship             6   \n",
       "818   1997-03-31  National Championship  National Championship             4   \n",
       "1199  2003-04-07  National Championship  National Championship             3   \n",
       "1391  2006-04-03  National Championship  National Championship             3   \n",
       "125   1986-03-31  National Championship  National Championship             2   \n",
       "2049  2016-04-04  National Championship                    NaN             2   \n",
       "\n",
       "          Winner  Winning Score  Losing Seed           Loser  Losing Score  \\\n",
       "62     Villanova             66            1      Georgetown            64   \n",
       "251       Kansas             83            1        Oklahoma            79   \n",
       "818      Arizona             84            1        Kentucky            79   \n",
       "1199    Syracuse             81            2          Kansas            78   \n",
       "1391     Florida             73            2            UCLA            57   \n",
       "125   Louisville             72            1            Duke            69   \n",
       "2049   Villanova             77            1  North Carolina            74   \n",
       "\n",
       "     Overtime  Year  Total Score  Underdog  Seed Differential  \n",
       "62        NaN  1985          130      True                  7  \n",
       "251       NaN  1988          162      True                  5  \n",
       "818      1 OT  1997          163      True                  3  \n",
       "1199      NaN  2003          159      True                  1  \n",
       "1391      NaN  2006          130      True                  1  \n",
       "125       NaN  1986          141      True                  1  \n",
       "2049      NaN  2016          151      True                  1  "
      ]
     },
     "execution_count": 18,
     "metadata": {},
     "output_type": "execute_result"
    }
   ],
   "source": [
    "#display teams in order of round\n",
    "\n",
    "temp= mm_df.loc[(mm_df['Underdog'] == True) & (mm_df['Round'] == \"National Championship\")]\n",
    "temp.sort_values(\"Winning Seed\", ascending= False)"
   ]
  },
  {
   "cell_type": "markdown",
   "id": "c67f01a1",
   "metadata": {},
   "source": [
    "Many of the underdogs here are trivial, as it was only a difference of 1 seed. \n",
    "However, Villanova is the lowest underdog seed to ever win a national championship and they were also the first team in the modern era of March Madness to win."
   ]
  },
  {
   "cell_type": "markdown",
   "id": "fbfe313c",
   "metadata": {},
   "source": [
    "# Conclusions"
   ]
  },
  {
   "cell_type": "markdown",
   "id": "a137fba6",
   "metadata": {},
   "source": [
    "While the underdog is more likely to lose in general, there is undeniably a high enough presence of \"Underdogs\" winning to warrant excitement."
   ]
  },
  {
   "cell_type": "markdown",
   "id": "1bb6e44b",
   "metadata": {},
   "source": [
    "## Next Steps"
   ]
  },
  {
   "cell_type": "markdown",
   "id": "75ab20d2",
   "metadata": {},
   "source": [
    "* Add more depth to the Underdog Criteria\n",
    "    * Look at how teams in different Regions are ranked against each other in overall rankings to decide when a team is an underdog even though both teams are the same seeds across different regions\n",
    "* Further Explore underdog teams\n",
    "Evaluate more fine-grained variables about the teams and analyze that "
   ]
  }
 ],
 "metadata": {
  "kernelspec": {
   "display_name": "Python 3.9 (tensorflow)",
   "language": "python",
   "name": "tensorflow"
  },
  "language_info": {
   "codemirror_mode": {
    "name": "ipython",
    "version": 3
   },
   "file_extension": ".py",
   "mimetype": "text/x-python",
   "name": "python",
   "nbconvert_exporter": "python",
   "pygments_lexer": "ipython3",
   "version": "3.9.13"
  }
 },
 "nbformat": 4,
 "nbformat_minor": 5
}
