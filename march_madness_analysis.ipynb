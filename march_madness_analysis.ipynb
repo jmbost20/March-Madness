{
 "cells": [
  {
   "cell_type": "markdown",
   "id": "adac5e2e",
   "metadata": {},
   "source": [
    "## Table of Contents\n",
    "\n",
    "1. ) [Introduction](#Overview)\n",
    "2. ) [Analysis](#Analysis)\n",
    "3. ) [Results](#Results)\n",
    "4. ) [Conclusions](#Conclusions)"
   ]
  },
  {
   "cell_type": "markdown",
   "id": "e35fb40f",
   "metadata": {},
   "source": [
    "# Introduction"
   ]
  },
  {
   "cell_type": "markdown",
   "id": "520e8f3a",
   "metadata": {},
   "source": [
    "## Problem Statement"
   ]
  },
  {
   "cell_type": "markdown",
   "id": "dedc0209",
   "metadata": {},
   "source": [
    "March Madness is one of the most popular offseasons in college sports. Many people heavily rely upon seed to select their winners in March Madness. In this notebook, the dataset will be explored for interesting historical revelations."
   ]
  },
  {
   "cell_type": "markdown",
   "id": "ec5a9b3a",
   "metadata": {},
   "source": [
    "## Data Background"
   ]
  },
  {
   "cell_type": "markdown",
   "id": "55d79583",
   "metadata": {},
   "source": [
    "Mainly focusing on comparing teams and assigning status as underdog based on seed. This is to cover the potential error that might arise from assigning every team a ranking discrete overall ranking.\n",
    "Thus when same seed teams play we discard this as of interest for the analysis"
   ]
  },
  {
   "cell_type": "markdown",
   "id": "931bb579",
   "metadata": {},
   "source": [
    "Data was obtained from https://data.world/sports/ncaa-mens-march-madness/workspace/filefilename=NCAA+Mens+March+Madness+Historical+Results.csv\n"
   ]
  },
  {
   "cell_type": "markdown",
   "id": "ba82dbd8",
   "metadata": {},
   "source": [
    "This data only spans 1985, the beginning of current era March Madness, to 2016. \n",
    "In future revisions this data will be manually scraped to stay up to date"
   ]
  },
  {
   "cell_type": "markdown",
   "id": "7b213c04",
   "metadata": {},
   "source": [
    "**Notes**: \n",
    "* Seed is inversely related to good teams \n",
    "    * higher seed is lower ranking\n",
    "    * 1 seed is the best seed"
   ]
  },
  {
   "cell_type": "markdown",
   "id": "dd810f1f",
   "metadata": {},
   "source": [
    "### Importing "
   ]
  },
  {
   "cell_type": "code",
   "execution_count": 1,
   "id": "808b0a97",
   "metadata": {},
   "outputs": [],
   "source": [
    "# Import the necessary Python libraries for data analysis and visualization\n",
    "import pandas as pd\n",
    "import numpy as np\n",
    "import matplotlib.pyplot as plt\n",
    "from matplotlib.patches import ConnectionPatch\n",
    "import matplotlib.dates as mdates\n",
    "from datetime import datetime\n",
    "\n",
    "\n",
    "# ignore warnings\n",
    "import warnings \n",
    "warnings.filterwarnings(\"ignore\")"
   ]
  },
  {
   "cell_type": "markdown",
   "id": "3565c9de",
   "metadata": {},
   "source": [
    "renamed CSV from \"NCAA Mens March Madness Historical Results.csv\" to \"March_Madness_Games.csv\""
   ]
  },
  {
   "cell_type": "code",
   "execution_count": 2,
   "id": "e8d089be",
   "metadata": {
    "scrolled": true
   },
   "outputs": [
    {
     "name": "stdout",
     "output_type": "stream",
     "text": [
      "<class 'pandas.core.frame.DataFrame'>\n",
      "RangeIndex: 2050 entries, 0 to 2049\n",
      "Data columns (total 10 columns):\n",
      " #   Column         Non-Null Count  Dtype \n",
      "---  ------         --------------  ----- \n",
      " 0   Date           2050 non-null   object\n",
      " 1   Round          2050 non-null   object\n",
      " 2   Region         2038 non-null   object\n",
      " 3   Winning Seed   2050 non-null   int64 \n",
      " 4   Winner         2050 non-null   object\n",
      " 5   Winning Score  2050 non-null   int64 \n",
      " 6   Losing Seed    2050 non-null   int64 \n",
      " 7   Loser          2050 non-null   object\n",
      " 8   Losing Score   2050 non-null   int64 \n",
      " 9   Overtime       130 non-null    object\n",
      "dtypes: int64(4), object(6)\n",
      "memory usage: 160.3+ KB\n"
     ]
    }
   ],
   "source": [
    "mm_df= pd.read_csv(\"March_Madness_Games.csv\")\n",
    "mm_df.info()"
   ]
  },
  {
   "cell_type": "markdown",
   "id": "d87cedbf",
   "metadata": {},
   "source": [
    "Print first 5 lines"
   ]
  },
  {
   "cell_type": "code",
   "execution_count": 3,
   "id": "e9f10ca3",
   "metadata": {
    "scrolled": true
   },
   "outputs": [
    {
     "data": {
      "text/html": [
       "<div>\n",
       "<style scoped>\n",
       "    .dataframe tbody tr th:only-of-type {\n",
       "        vertical-align: middle;\n",
       "    }\n",
       "\n",
       "    .dataframe tbody tr th {\n",
       "        vertical-align: top;\n",
       "    }\n",
       "\n",
       "    .dataframe thead th {\n",
       "        text-align: right;\n",
       "    }\n",
       "</style>\n",
       "<table border=\"1\" class=\"dataframe\">\n",
       "  <thead>\n",
       "    <tr style=\"text-align: right;\">\n",
       "      <th></th>\n",
       "      <th>Date</th>\n",
       "      <th>Round</th>\n",
       "      <th>Region</th>\n",
       "      <th>Winning Seed</th>\n",
       "      <th>Winner</th>\n",
       "      <th>Winning Score</th>\n",
       "      <th>Losing Seed</th>\n",
       "      <th>Loser</th>\n",
       "      <th>Losing Score</th>\n",
       "      <th>Overtime</th>\n",
       "    </tr>\n",
       "  </thead>\n",
       "  <tbody>\n",
       "    <tr>\n",
       "      <th>0</th>\n",
       "      <td>3/14/85</td>\n",
       "      <td>Round of 64</td>\n",
       "      <td>East</td>\n",
       "      <td>1</td>\n",
       "      <td>Georgetown</td>\n",
       "      <td>68</td>\n",
       "      <td>16</td>\n",
       "      <td>Lehigh</td>\n",
       "      <td>43</td>\n",
       "      <td>NaN</td>\n",
       "    </tr>\n",
       "    <tr>\n",
       "      <th>1</th>\n",
       "      <td>3/14/85</td>\n",
       "      <td>Round of 64</td>\n",
       "      <td>East</td>\n",
       "      <td>4</td>\n",
       "      <td>Loyola, Illinois</td>\n",
       "      <td>59</td>\n",
       "      <td>13</td>\n",
       "      <td>Iona</td>\n",
       "      <td>58</td>\n",
       "      <td>NaN</td>\n",
       "    </tr>\n",
       "    <tr>\n",
       "      <th>2</th>\n",
       "      <td>3/14/85</td>\n",
       "      <td>Round of 64</td>\n",
       "      <td>East</td>\n",
       "      <td>5</td>\n",
       "      <td>Southern Methodist</td>\n",
       "      <td>85</td>\n",
       "      <td>12</td>\n",
       "      <td>Old Dominion</td>\n",
       "      <td>68</td>\n",
       "      <td>NaN</td>\n",
       "    </tr>\n",
       "    <tr>\n",
       "      <th>3</th>\n",
       "      <td>3/14/85</td>\n",
       "      <td>Round of 64</td>\n",
       "      <td>East</td>\n",
       "      <td>8</td>\n",
       "      <td>Temple</td>\n",
       "      <td>60</td>\n",
       "      <td>9</td>\n",
       "      <td>Virginia Tech</td>\n",
       "      <td>57</td>\n",
       "      <td>NaN</td>\n",
       "    </tr>\n",
       "    <tr>\n",
       "      <th>4</th>\n",
       "      <td>3/14/85</td>\n",
       "      <td>Round of 64</td>\n",
       "      <td>Midwest</td>\n",
       "      <td>1</td>\n",
       "      <td>Oklahoma</td>\n",
       "      <td>96</td>\n",
       "      <td>16</td>\n",
       "      <td>North Carolina A&amp;T</td>\n",
       "      <td>83</td>\n",
       "      <td>NaN</td>\n",
       "    </tr>\n",
       "  </tbody>\n",
       "</table>\n",
       "</div>"
      ],
      "text/plain": [
       "      Date        Round   Region  Winning Seed              Winner  \\\n",
       "0  3/14/85  Round of 64     East             1          Georgetown   \n",
       "1  3/14/85  Round of 64     East             4    Loyola, Illinois   \n",
       "2  3/14/85  Round of 64     East             5  Southern Methodist   \n",
       "3  3/14/85  Round of 64     East             8              Temple   \n",
       "4  3/14/85  Round of 64  Midwest             1            Oklahoma   \n",
       "\n",
       "   Winning Score  Losing Seed               Loser  Losing Score Overtime  \n",
       "0             68           16              Lehigh            43      NaN  \n",
       "1             59           13                Iona            58      NaN  \n",
       "2             85           12        Old Dominion            68      NaN  \n",
       "3             60            9       Virginia Tech            57      NaN  \n",
       "4             96           16  North Carolina A&T            83      NaN  "
      ]
     },
     "execution_count": 3,
     "metadata": {},
     "output_type": "execute_result"
    }
   ],
   "source": [
    "mm_df.head() "
   ]
  },
  {
   "cell_type": "markdown",
   "id": "7e8dad57",
   "metadata": {},
   "source": [
    "## Data Cleaning"
   ]
  },
  {
   "cell_type": "markdown",
   "id": "760c0625",
   "metadata": {},
   "source": [
    "Testing Code: Saved for the developer"
   ]
  },
  {
   "cell_type": "code",
   "execution_count": 4,
   "id": "bc38784d",
   "metadata": {},
   "outputs": [],
   "source": [
    "#Testing (save for .py version)\n",
    "# date_time_str= (mm_df[\"Date\"][0])\n",
    "# date_time_obj = datetime.strptime(date_time_str, '%m/%d/%y')\n",
    "# date_time_str"
   ]
  },
  {
   "cell_type": "markdown",
   "id": "761e4067",
   "metadata": {},
   "source": [
    "Convert String to DateTime Object"
   ]
  },
  {
   "cell_type": "markdown",
   "id": "11f54a79",
   "metadata": {},
   "source": [
    "Modify several Columns within the Dataframe. Note: Play-in games only started in 2001. As these games are not significant we are excluding them from our Data"
   ]
  },
  {
   "cell_type": "code",
   "execution_count": 5,
   "id": "f7039133",
   "metadata": {},
   "outputs": [],
   "source": [
    "#Convert String to DateTime Object\n",
    "mm_df[\"Date\"]= pd.to_datetime(mm_df['Date'], format='%m/%d/%y').dt.date\n",
    "\n",
    "#Create Year Variable\n",
    "mm_df['Year'] = pd.DatetimeIndex(mm_df['Date']).year \n",
    "\n",
    "#Create Total Points per game (not including OT) Variable\n",
    "mm_df[\"Total Score\"]= mm_df[\"Winning Score\"]+ mm_df[\"Losing Score\"]\n",
    "\n",
    "###Detect Cases where underdog wins (Save for .py version)\n",
    "# mm_df[\"Underdog Wins\"]= mm_df[\"Winning Seed\"] < \n",
    "\n",
    "#Exclude all play in games (11, 12, 16, in Opening Round)\n",
    "#PLAY IN GAMES ONLY STARTED IN 2001\n",
    "not_playin_game= mm_df[\"Round\"] != \"Opening Round\"\n",
    "\n",
    "#Create Variable Underdog\n",
    "# detect when lower seed wins; when same seed ignore (or later could look up ranking of that year and pick based on higher team ranked)\n",
    "total_games= len(mm_df)\n",
    "# mm_df[mm_df[\"Winning Seed\"] > mm_df[\"Losing Seed\"]]\n",
    "mm_df[\"Underdog\"]= mm_df[\"Winning Seed\"] > mm_df[\"Losing Seed\"]\n"
   ]
  },
  {
   "cell_type": "code",
   "execution_count": 6,
   "id": "72c17234",
   "metadata": {},
   "outputs": [],
   "source": [
    "#Create Seed Differential Variable to express the number of seeds between losing and winning teams. A negative represents a lower seeded team\n",
    "#total difference in seeds between teams\n",
    "mm_df[\"Seed Differential\"]= mm_df[\"Winning Seed\"]- mm_df[\"Losing Seed\"]\n"
   ]
  },
  {
   "cell_type": "markdown",
   "id": "4939d9df",
   "metadata": {},
   "source": [
    "The following is more testing code for the developer"
   ]
  },
  {
   "cell_type": "code",
   "execution_count": 7,
   "id": "9acfc9b7",
   "metadata": {},
   "outputs": [],
   "source": [
    "# mm_df[mm_df[\"Seed Differential\"]==]\n",
    "#mm_df.loc[(mm_df['Winning Seed'] == 1) & (mm_df['Losing Seed'] == 1)]\n",
    "\n"
   ]
  },
  {
   "cell_type": "markdown",
   "id": "4c062c45",
   "metadata": {},
   "source": [
    "The following removes games where there is no underdog"
   ]
  },
  {
   "cell_type": "code",
   "execution_count": 8,
   "id": "08fc0787",
   "metadata": {},
   "outputs": [],
   "source": [
    "#remove same seed games (number of same seed games)\n",
    "mm_df[mm_df[\"Winning Seed\"]== mm_df[\"Losing Seed\"]]\n",
    "\n",
    "#temporarily remove same Seed games\n",
    "diff_seed= mm_df[\"Winning Seed\"]!= mm_df[\"Losing Seed\"]\n",
    "mm_df= mm_df[diff_seed]"
   ]
  },
  {
   "cell_type": "markdown",
   "id": "38a4f15c",
   "metadata": {},
   "source": [
    "More testing:"
   ]
  },
  {
   "cell_type": "code",
   "execution_count": 9,
   "id": "b1007337",
   "metadata": {},
   "outputs": [],
   "source": [
    "\n",
    "#Testing (Save for .py version later)\n",
    "#CHECK LEN IS DIFFERENT\n",
    "# print(len(mm_df[not_playin_game]) != len(mm_df))\n",
    "# mm_df= mm_df[not_playin_game] # len(mm_df)\n",
    "#check that all have been removed\n",
    "# check= mm_df[\"Round\"] == \"Opening Round\"\n",
    "# mm_df[check]"
   ]
  },
  {
   "cell_type": "markdown",
   "id": "3095a433",
   "metadata": {},
   "source": [
    "### Completed Dataset"
   ]
  },
  {
   "cell_type": "markdown",
   "id": "5b477ba9",
   "metadata": {},
   "source": [
    "## Variable Examination"
   ]
  },
  {
   "cell_type": "code",
   "execution_count": 10,
   "id": "b641fb77",
   "metadata": {},
   "outputs": [
    {
     "data": {
      "text/plain": [
       "['Date',\n",
       " 'Round',\n",
       " 'Region',\n",
       " 'Winning Seed',\n",
       " 'Winner',\n",
       " 'Winning Score',\n",
       " 'Losing Seed',\n",
       " 'Loser',\n",
       " 'Losing Score',\n",
       " 'Overtime',\n",
       " 'Year',\n",
       " 'Total Score',\n",
       " 'Underdog',\n",
       " 'Seed Differential']"
      ]
     },
     "execution_count": 10,
     "metadata": {},
     "output_type": "execute_result"
    }
   ],
   "source": [
    "#Listing Final Variables\n",
    "col_name = mm_df.columns.values.tolist()\n",
    "col_name"
   ]
  },
  {
   "cell_type": "markdown",
   "id": "1326c233",
   "metadata": {},
   "source": [
    "*** Underdog is the most important variable we have to focus on. This is true when the lower seed team has won and false when not. We have already removed all same seed games from out dataset"
   ]
  },
  {
   "cell_type": "markdown",
   "id": "e565c6ea",
   "metadata": {},
   "source": [
    "# Analysis"
   ]
  },
  {
   "cell_type": "markdown",
   "id": "438cf656",
   "metadata": {},
   "source": [
    "### Step 1: Total Results"
   ]
  },
  {
   "cell_type": "code",
   "execution_count": 15,
   "id": "347ada57",
   "metadata": {
    "scrolled": true
   },
   "outputs": [
    {
     "name": "stdout",
     "output_type": "stream",
     "text": [
      "The expected team won 74.65% percent of the games-- based on our criteria\n"
     ]
    }
   ],
   "source": [
    "#Percentage of lower seed/ underdog winning\n",
    "underdog_wins= len(mm_df[mm_df[\"Winning Seed\"] > mm_df[\"Losing Seed\"]])\n",
    "underdog_pct= underdog_wins/ total_games\n",
    "favorited_wins= total_games- underdog_wins\n",
    "per_fav_win =favorited_wins/len(mm_df)\n",
    "\n",
    "print(f\"The expected team won {per_fav_win:.2%} percent of the games\")"
   ]
  },
  {
   "cell_type": "markdown",
   "id": "4505e407",
   "metadata": {},
   "source": [
    "### Step 2: Seed Differentials:"
   ]
  },
  {
   "cell_type": "markdown",
   "id": "98c54ed6",
   "metadata": {},
   "source": [
    "To ease our understanding of the performance of Underdog winners, we will split the data into <u>Seed Differentials</u>"
   ]
  },
  {
   "cell_type": "markdown",
   "id": "3d245969",
   "metadata": {},
   "source": [
    "*what does this mean???*"
   ]
  },
  {
   "cell_type": "markdown",
   "id": "b9f4d197",
   "metadata": {},
   "source": [
    "A <u>Seed Differentials</u> is just the difference in seeds that was in place when an Underdog team won. For example, a 4 seed beating a 1 seed would have a seed differential of 3. This is just a rote way to capture what the difference is in games. "
   ]
  },
  {
   "cell_type": "code",
   "execution_count": 16,
   "id": "28ec2cca",
   "metadata": {
    "scrolled": false
   },
   "outputs": [
    {
     "data": {
      "text/plain": [
       "{'1-3 Seed Difference': 0.4920071047957371,\n",
       " '4-6 Seed Difference': 0.19005328596802842,\n",
       " '7-9 Seed Difference': 0.261101243339254,\n",
       " '10-13 Seed Difference': 0.056838365896980464}"
      ]
     },
     "execution_count": 16,
     "metadata": {},
     "output_type": "execute_result"
    }
   ],
   "source": [
    "underdog_df= mm_df[mm_df[\"Underdog\"]== True]\n",
    "underdog_df\n",
    "\n",
    "# underdog_df[underdog_df[\"Seed Differential\"]]\n",
    "underdog_df[\"Seed Differential\"].value_counts()\n",
    "underdog_df[\"Seed Differential\"].describe()\n",
    "pre_list= list(underdog_df[\"Seed Differential\"])\n",
    "\n",
    "category_dict= {}\n",
    "\n",
    "for diff in pre_list:\n",
    "    cat_val= None\n",
    "    if diff<4:\n",
    "        cat_val= \"1-3 Seed Difference\"\n",
    "    elif diff>3 and diff<7:\n",
    "        cat_val= \"4-6 Seed Difference\"\n",
    "    elif diff>6 and diff<10:\n",
    "        cat_val= \"7-9 Seed Difference\"\n",
    "    elif diff>9:\n",
    "        cat_val= \"10-13 Seed Difference\"\n",
    "\n",
    "    if not cat_val in category_dict:\n",
    "        category_dict[cat_val]= 0\n",
    "    category_dict[cat_val]+= 1\n",
    "    \n",
    "stor_val= sum(category_dict.values())\n",
    "category_dict= {k:v/(stor_val) for (k,v) in category_dict.items()}\n",
    "(category_dict)\n",
    "\n",
    "# category_dict= {}\n",
    "# for val in category_list:\n",
    "    \n",
    "#<1-3; 4-6,7-9; 10-13\n",
    "\n",
    "# underdog_df[\"Seed Differential\"].value_counts()\n",
    "# mm_df[mm_df[\"Seed Differential\"]== 13]"
   ]
  },
  {
   "cell_type": "markdown",
   "id": "af82736a",
   "metadata": {},
   "source": [
    "The interpretation of this dictionary is that teams with a 1-3 seed difference have the highest winning percentage at 49.2%, followed by teams with a 7-9 seed difference at 26.1%, teams with a 4-6 seed difference at 19.0%, and teams with a 10-13 seed difference at 5.7%."
   ]
  },
  {
   "cell_type": "markdown",
   "id": "08bdfd95",
   "metadata": {},
   "source": [
    "###### Meaning:"
   ]
  },
  {
   "cell_type": "markdown",
   "id": "b7f28ffb",
   "metadata": {},
   "source": [
    "This suggests that the seed difference between two teams is a significant factor in determining their likelihood of winning a game in the NCAA basketball tournament. Teams with a smaller seed difference, particularly those with a 1-3 seed difference, have a higher chance of winning compared to teams with a larger seed difference. However, it is important to note that other factors, such as team performance and player injuries, can also influence the outcome of a game."
   ]
  },
  {
   "cell_type": "markdown",
   "id": "90925517",
   "metadata": {},
   "source": [
    "### Step 2: Victory Differences"
   ]
  },
  {
   "cell_type": "markdown",
   "id": "c6d05b11",
   "metadata": {},
   "source": [
    "The following graph is used to visualize, the percentages of Seed Differential within the bigger picture of how often the lower seed wins overall"
   ]
  },
  {
   "cell_type": "code",
   "execution_count": 19,
   "id": "32bc3006",
   "metadata": {
    "scrolled": true
   },
   "outputs": [
    {
     "data": {
      "image/png": "[encoded data removed]",
      "text/plain": [
       "<Figure size 900x500 with 2 Axes>"
      ]
     },
     "metadata": {},
     "output_type": "display_data"
    }
   ],
   "source": [
    "# make figure and assign axis objects\n",
    "fig, (ax1, ax2) = plt.subplots(1, 2, figsize=(9, 5))\n",
    "fig.subplots_adjust(wspace=0)\n",
    "\n",
    "# pie chart parameters\n",
    "\n",
    "overall_ratios = sizes = [favorited_wins, underdog_wins]\n",
    "labels = \"Higher Seed Wins\", \"Lower Seed Wins\"\n",
    "explode = [0.1, 0]\n",
    "# rotate so that first wedge is split by the x-axis\n",
    "angle = -90 * overall_ratios[0]\n",
    "wedges, *_ = ax1.pie(overall_ratios, autopct='%1.1f%%', startangle=angle,\n",
    "                     labels=labels, explode=explode)\n",
    "\n",
    "# bar chart parameters\n",
    "### Seed of the underdog\n",
    "\n",
    "\n",
    "# underdog\n",
    "# divide the seed differential from the total\n",
    "\n",
    "age_ratios = category_dict.values()\n",
    "age_labels =  category_dict.keys()\n",
    "bottom = 1\n",
    "width = .2\n",
    "\n",
    "# Adding from the top matches the legend.\n",
    "for j, (height, label) in enumerate(reversed([*zip(age_ratios, age_labels)])):\n",
    "    bottom -= height\n",
    "    bc = ax2.bar(0, height, width, bottom=bottom, color='C1', label=label,\n",
    "                 alpha=0.1 + 0.25 * j)\n",
    "    ax2.bar_label(bc, labels=[f\"{height:.0%}\"], label_type='center')\n",
    "\n",
    "ax2.set_title('Seed Differential')\n",
    "ax2.legend()\n",
    "ax2.axis('off')\n",
    "ax2.set_xlim(- 5 * width, 2.5 * width)\n",
    "\n",
    "###DRAWING LINES\n",
    "\n",
    "# use ConnectionPatch to draw lines between the two plots\n",
    "theta1, theta2 = wedges[1].theta1, wedges[1].theta2\n",
    "center, r = wedges[1].center, wedges[1].r\n",
    "bar_height = sum(age_ratios)\n",
    "\n",
    "# draw top connecting line\n",
    "x = r * np.cos(np.pi / 180 * theta2) + center[0]\n",
    "y = r * np.sin(np.pi / 180 * theta2) + center[1]\n",
    "con = ConnectionPatch(xyA=(-width / 2, bar_height), coordsA=ax2.transData,\n",
    "                      xyB=(x, y), coordsB=ax1.transData)\n",
    "con.set_color([0, 0, 0])\n",
    "con.set_linewidth(1)\n",
    "ax2.add_artist(con)\n",
    "\n",
    "# draw bottom connecting line\n",
    "x = r * np.cos(np.pi / 180 * theta1) + center[0]\n",
    "y = r * np.sin(np.pi / 180 * theta1) + center[1]\n",
    "con = ConnectionPatch(xyA=(-width / 2, 0), coordsA=ax2.transData,\n",
    "                      xyB=(x, y), coordsB=ax1.transData)\n",
    "con.set_color([0, 0, 0])\n",
    "ax2.add_artist(con)\n",
    "con.set_linewidth(1)\n",
    "\n",
    "plt.show()\n"
   ]
  },
  {
   "cell_type": "markdown",
   "id": "65d890c0",
   "metadata": {},
   "source": [
    "In this plot, the conjoined chart (right) represents the difference among lower seed teams\n",
    "\n",
    "This code generates a graph that shows the winning percentages for higher-seeded and lower-seeded teams in the NCAA basketball tournament. The left side of the graph is a pie chart that shows the overall percentage of wins for higher-seeded and lower-seeded teams. The right side of the graph is a bar chart that shows the percentage of wins for each seed difference (the difference in seeding between two teams).\n",
    "\n",
    "The pie chart and bar chart are connected by lines that show the relationship between the overall winning percentages and the winning percentages for each seed difference. The pie chart and bar chart help to visualize which teams are more likely to win based on their seeding.\n",
    "\n",
    "This graph can be helpful to understand how seeding affects the likelihood of a team winning a game in the NCAA basketball tournament.\n",
    "\n",
    "\n",
    "\n"
   ]
  },
  {
   "cell_type": "markdown",
   "id": "3c897a1f",
   "metadata": {},
   "source": [
    "#### Lowest Seed teams to win (*)"
   ]
  },
  {
   "cell_type": "code",
   "execution_count": null,
   "id": "8655c990",
   "metadata": {},
   "outputs": [],
   "source": [
    "largest_upset= underdog_df[\"Seed Differential\"].max()\n",
    "seed_15= underdog_df[mm_df[\"Seed Differential\"]== largest_upset]\n",
    "seed_15"
   ]
  },
  {
   "cell_type": "markdown",
   "id": "84e528f2",
   "metadata": {},
   "source": [
    "*As of 2018, there is 1 16-seed team win in March Madness, UMBC."
   ]
  },
  {
   "cell_type": "code",
   "execution_count": null,
   "id": "9e576fb0",
   "metadata": {},
   "outputs": [],
   "source": [
    "\n",
    "names= list(seed_15[\"Winner\"])\n",
    "names[-1]= \"MTSU\"\n",
    "dates= list(seed_15[\"Date\"])\n",
    "\n",
    "# names = ['v2.2.4', 'v3.0.3', 'v3.0.2', 'v3.0.1', 'v3.0.0', 'v2.2.3',\n",
    "#              'v2.2.2', 'v2.2.1', 'v2.2.0', 'v2.1.2', 'v2.1.1', 'v2.1.0',\n",
    "#              'v2.0.2', 'v2.0.1', 'v2.0.0', 'v1.5.3', 'v1.5.2', 'v1.5.1',\n",
    "#              'v1.5.0', 'v1.4.3', 'v1.4.2', 'v1.4.1', 'v1.4.0']\n",
    "\n",
    "# dates = ['2019-02-26', '2019-02-26', '2018-11-10', '2018-11-10',\n",
    "#              '2018-09-18', '2018-08-10', '2018-03-17', '2018-03-16',\n",
    "#              '2018-03-06', '2018-01-18', '2017-12-10', '2017-10-07',\n",
    "#              '2017-05-10', '2017-05-02', '2017-01-17', '2016-09-09',\n",
    "#              '2016-07-03', '2016-01-10', '2015-10-29', '2015-02-16',\n",
    "#              '2014-10-26', '2014-10-18', '2014-08-26']\n",
    "\n",
    "# Choose some nice levels\n",
    "levels = np.tile([-5, 5, -3, 3, -1, 1],\n",
    "                 int(np.ceil(len(dates)/6)))[:len(dates)]\n",
    "\n",
    "# Create figure and plot a stem plot with the date\n",
    "fig, ax = plt.subplots(figsize=(8.8, 4), constrained_layout=True)\n",
    "ax.set(title=\"Underdog Wins\")\n",
    "\n",
    "ax.vlines(dates, 0, levels, color=\"tab:red\")  # The vertical stems.\n",
    "ax.plot(dates, np.zeros_like(dates), \"-o\",\n",
    "        color=\"k\", markerfacecolor=\"w\")  # Baseline and markers on it.\n",
    "\n",
    "# annotate lines\n",
    "for d, l, r in zip(dates, levels, names):\n",
    "    ax.annotate(r, xy=(d, l),\n",
    "                xytext=(-3, np.sign(l)*3), textcoords=\"offset points\",\n",
    "                horizontalalignment=\"center\",\n",
    "                verticalalignment=\"bottom\" if l > 0 else \"top\")\n",
    "\n",
    "# format xaxis with 12 month intervals\n",
    "ax.xaxis.set_major_locator(mdates.MonthLocator(interval=12))\n",
    "ax.xaxis.set_major_formatter(mdates.DateFormatter(\"%Y\"))\n",
    "plt.setp(ax.get_xticklabels(), rotation=30, ha=\"right\")\n",
    "\n",
    "# remove y axis and spines\n",
    "ax.yaxis.set_visible(False)\n",
    "# ax.spines[[\"left\", \"top\", \"right\"]].set_visible(False)\n",
    "\n",
    "ax.margins(y=0.1)\n",
    "plt.show()"
   ]
  },
  {
   "cell_type": "code",
   "execution_count": null,
   "id": "ef193ef0",
   "metadata": {
    "scrolled": true
   },
   "outputs": [],
   "source": [
    "#Plotting\n",
    "# total underdog win ratio per season\n",
    "# total underdog per round\n",
    "# among the top 4 seeds which is most likely to lose?\n",
    "\n",
    "# ratio of their appearances\n",
    "underdog_frame= mm_df[[\"Winner\", \"Underdog\"]].groupby(\"Winner\").sum().sort_values([\"Underdog\"], ascending= False).head(10)\n",
    "\n",
    "test= underdog_frame[\"Underdog\"]\n",
    "                                \n",
    "input_val= dict(test)\n",
    "\n",
    "underdog_frame\n"
   ]
  },
  {
   "cell_type": "markdown",
   "id": "abf4be47",
   "metadata": {},
   "source": [
    "# Teams with the Most Underdog Wins"
   ]
  },
  {
   "cell_type": "code",
   "execution_count": null,
   "id": "00b34e69",
   "metadata": {},
   "outputs": [],
   "source": [
    "# Bar chart and then show years too\n",
    "# Show the seeds they've won as underdogs\n",
    "\n",
    "fig, ax = plt.subplots()\n",
    "\n",
    "teams = input_val.keys()\n",
    "counts = input_val.values()\n",
    "bar_colors = ['tab:orange', 'tab:red', \"tab:purple\", 'tab:blue']\n",
    "\n",
    "ax.bar(teams, counts,  color=bar_colors)\n",
    "\n",
    "ax.set_ylabel('Underdog Wins')\n",
    "ax.set_title('Top 10 Teams with the Most Underdog Wins')\n",
    "ax.tick_params(axis='x', rotation=50)\n",
    "\n",
    "# ax.legend(title='Fruit color')\n",
    "\n",
    "plt.show()\n"
   ]
  },
  {
   "cell_type": "markdown",
   "id": "ba1571aa",
   "metadata": {},
   "source": [
    "## then Gather data on the team (timeline"
   ]
  },
  {
   "cell_type": "code",
   "execution_count": null,
   "id": "24b8b1dc",
   "metadata": {},
   "outputs": [],
   "source": [
    "year_frame= mm_df[[\"Date\", \"Region\", \"Underdog\"]] #farthest underdogs per year\n",
    "\n",
    "underdog_frame= mm_df[[\"Winner\", \"Underdog\"]].groupby(\"Winner\").sum().sort_values([\"Underdog\"], ascending= False).head(10)\n",
    "underdog_frame"
   ]
  },
  {
   "cell_type": "markdown",
   "id": "d4c6cc7e",
   "metadata": {},
   "source": [
    "# Most Successful Underdogs"
   ]
  },
  {
   "cell_type": "code",
   "execution_count": null,
   "id": "c8938ee9",
   "metadata": {},
   "outputs": [],
   "source": [
    "#display teams in order of round\n",
    "\n",
    "temp= mm_df.loc[(mm_df['Underdog'] == True) & (mm_df['Round'] == \"National Championship\")]\n",
    "temp.sort_values(\"Winning Seed\", ascending= False)"
   ]
  },
  {
   "cell_type": "markdown",
   "id": "c67f01a1",
   "metadata": {},
   "source": [
    "Many of the underdogs here are trivial, as it was only a difference of 1 seed. \n",
    "However, Villanova is the lowest underdog seed to ever win a national championship and they were also the first team in the modern era of March Madness to win."
   ]
  },
  {
   "cell_type": "markdown",
   "id": "fbfe313c",
   "metadata": {},
   "source": [
    "# Conclusions"
   ]
  },
  {
   "cell_type": "markdown",
   "id": "a137fba6",
   "metadata": {},
   "source": [
    "* **Overall**\n",
    "    * While the underdog is more likely to lose in general almost a quarter of the time, there is undeniably a high enough presence of \"Underdogs\" winning to warrant excitement.\n",
    "* **Ultimate Underdog Team**\n",
    "    * Villonova is the ultimate underdog team having both the underdog wins and the biggest underdog championship\n"
   ]
  },
  {
   "cell_type": "markdown",
   "id": "1bb6e44b",
   "metadata": {},
   "source": [
    "## Next Steps"
   ]
  },
  {
   "cell_type": "markdown",
   "id": "75ab20d2",
   "metadata": {},
   "source": [
    "* Add more depth to the Underdog Criteria\n",
    "    * Look at how teams in different Regions are ranked against each other in overall rankings to decide when a team is an underdog even though both teams are the same seeds across different regions\n",
    "* Further Explore underdog teams\n",
    "Evaluate more fine-grained variables involving the teams"
   ]
  }
 ],
 "metadata": {
  "kernelspec": {
   "display_name": "Python 3 (ipykernel)",
   "language": "python",
   "name": "python3"
  },
  "language_info": {
   "codemirror_mode": {
    "name": "ipython",
    "version": 3
   },
   "file_extension": ".py",
   "mimetype": "text/x-python",
   "name": "python",
   "nbconvert_exporter": "python",
   "pygments_lexer": "ipython3",
   "version": "3.9.12"
  }
 },
 "nbformat": 4,
 "nbformat_minor": 5
}
